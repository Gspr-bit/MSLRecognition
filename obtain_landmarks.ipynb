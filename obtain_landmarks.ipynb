{
 "cells": [
  {
   "cell_type": "code",
   "id": "3d558306d01fd095",
   "metadata": {
    "collapsed": true,
    "ExecuteTime": {
     "end_time": "2024-05-29T09:53:53.076250Z",
     "start_time": "2024-05-29T09:53:52.557900Z"
    }
   },
   "source": [
    "from datetime import datetime\n",
    "import cv2 as cv\n",
    "import numpy as np\n",
    "import math\n",
    "import mediapipe as mp\n",
    "import os\n",
    "import pandas as pd\n",
    "import seaborn as sns"
   ],
   "outputs": [],
   "execution_count": 46
  },
  {
   "metadata": {},
   "cell_type": "markdown",
   "source": "init recognizer",
   "id": "5f5df62489f6aaba"
  },
  {
   "metadata": {
    "ExecuteTime": {
     "end_time": "2024-05-29T07:56:46.835312Z",
     "start_time": "2024-05-29T07:56:46.827038Z"
    }
   },
   "cell_type": "code",
   "source": [
    "# !wget https://storage.googleapis.com/mediapipe-models/gesture_recognizer/gesture_recognizer/float16/1/gesture_recognizer.task\n",
    "\n",
    "BaseOptions = mp.tasks.BaseOptions\n",
    "HandLandmarker = mp.tasks.vision.HandLandmarker\n",
    "HandLandmarkerOptions = mp.tasks.vision.HandLandmarkerOptions\n",
    "VisionRunningMode = mp.tasks.vision.RunningMode\n",
    "\n",
    "CONFIDENCE = 0.25\n",
    "# Create a hand landmarker instance with the video mode:\n",
    "options = HandLandmarkerOptions(\n",
    "    base_options=BaseOptions(model_asset_path='hand_landmarker.task'),\n",
    "    running_mode=VisionRunningMode.VIDEO,\n",
    "    num_hands=2,\n",
    "    min_tracking_confidence=CONFIDENCE,\n",
    "    min_hand_presence_confidence=CONFIDENCE,\n",
    "    min_hand_detection_confidence=CONFIDENCE)"
   ],
   "id": "initial_id",
   "outputs": [],
   "execution_count": 2
  },
  {
   "metadata": {},
   "cell_type": "markdown",
   "source": "load videos",
   "id": "84c43a2a5bff7ac8"
  },
  {
   "metadata": {
    "ExecuteTime": {
     "end_time": "2024-05-29T08:56:07.603287Z",
     "start_time": "2024-05-29T08:56:07.597628Z"
    }
   },
   "cell_type": "code",
   "source": [
    "def test_video(path):\n",
    "    landmarker = HandLandmarker.create_from_options(options)\n",
    "\n",
    "    cap = cv.VideoCapture(path)\n",
    "    \n",
    "    if not cap.isOpened():\n",
    "        print(\"can't open file\")\n",
    "        exit(0)\n",
    "        \n",
    "    fps = cap.get(cv.CAP_PROP_FPS)\n",
    "    print(\"fps\", fps)\n",
    "    \n",
    "    frame_number = 0\n",
    "    missing_count = 0\n",
    "    data = []\n",
    "    while True:\n",
    "        ret, frame = cap.read()\n",
    "\n",
    "        if not ret:\n",
    "            break\n",
    "\n",
    "        if cv.waitKey(1) & 0xFF == ord('q'):\n",
    "            break\n",
    "        \n",
    "        timestamp = int(1000 * frame_number / fps)\n",
    "        frame_number += 1\n",
    "        \n",
    "        numpy_frame_from_opencv = cv.cvtColor(frame, cv.COLOR_BGR2RGB)\n",
    "        mp_image = mp.Image(image_format=mp.ImageFormat.SRGB, data=numpy_frame_from_opencv)\n",
    "    \n",
    "        result = landmarker.detect_for_video(mp_image, timestamp)\n",
    "            \n",
    "        if len(result.hand_landmarks) <= 1:\n",
    "            # print(\"WARNING: no enough hand landmarks at\", timestamp, len(result.hand_landmarks))\n",
    "            missing_count += 1\n",
    "            \n",
    "        if len(result.hand_landmarks) == 0:\n",
    "            continue\n",
    "\n",
    "        hand = dict()\n",
    "        hand['timestamp'] = timestamp\n",
    "        hand['data'] = dict()\n",
    "            \n",
    "        for i, hand_landmarks in enumerate(result.hand_landmarks):\n",
    "            side = result.handedness[i][0].category_name\n",
    "            \n",
    "            for j, point in enumerate(hand_landmarks):\n",
    "                hand['data'][f\"{side}_{j}_x\"] = point.x\n",
    "                hand['data'][f\"{side}_{j}_y\"] = point.y\n",
    "                hand['data'][f\"{side}_{j}_z\"] = point.z\n",
    "                hand['data'][f\"{side}_{j}_visibility\"] = point.visibility\n",
    "                hand['data'][f\"{side}_{j}_presence\"] = point.presence\n",
    "        \n",
    "        data.append(hand)\n",
    "        \n",
    "\n",
    "    missing_ratio = missing_count / frame_number\n",
    "    \n",
    "    cap.release()\n",
    "    cv.destroyAllWindows()\n",
    "    \n",
    "    return missing_ratio, data"
   ],
   "id": "e64dda4ea5932495",
   "outputs": [],
   "execution_count": 27
  },
  {
   "metadata": {},
   "cell_type": "code",
   "source": [
    "videos = []\n",
    "for root, directories, files in os.walk('MXITESO100/'):\n",
    "    for filename in files:\n",
    "        videos.append(os.path.join(root, filename))\n",
    "\n",
    "# expect 40 minutes\n",
    "dataset = {'filename': [], 'score': [], 'data': []}\n",
    "for video in videos:\n",
    "    score, data = test_video(video)\n",
    "    dataset['data'].append(data)\n",
    "    dataset['filename'].append(video)\n",
    "    dataset['score'].append(score)\n",
    "    \n",
    "dataset = pd.DataFrame(dataset)\n",
    "dataset.to_json('data.json')"
   ],
   "id": "e7f9d46662e3aad9",
   "outputs": [],
   "execution_count": null
  },
  {
   "metadata": {
    "ExecuteTime": {
     "end_time": "2024-05-29T09:43:22.308804Z",
     "start_time": "2024-05-29T09:43:22.256627Z"
    }
   },
   "cell_type": "code",
   "source": "dataset.shape",
   "id": "65416721bf92566f",
   "outputs": [
    {
     "data": {
      "text/plain": [
       "(532, 3)"
      ]
     },
     "execution_count": 29,
     "metadata": {},
     "output_type": "execute_result"
    }
   ],
   "execution_count": 29
  },
  {
   "metadata": {
    "ExecuteTime": {
     "end_time": "2024-05-29T09:46:20.824222Z",
     "start_time": "2024-05-29T09:46:20.297701Z"
    }
   },
   "cell_type": "code",
   "source": [
    "# find percentage of rows with score > 50%\n",
    "useful = dataset[dataset['score'] > 0.5]\n",
    "useful.to_json('useful.json')"
   ],
   "id": "3b04e63c6cef5541",
   "outputs": [],
   "execution_count": 33
  },
  {
   "metadata": {
    "ExecuteTime": {
     "end_time": "2024-05-29T09:52:24.241141Z",
     "start_time": "2024-05-29T09:52:24.237617Z"
    }
   },
   "cell_type": "code",
   "source": [
    "words = set()\n",
    "for i in useful['filename'].str.split('/'):\n",
    "    words.add(i[1])\n",
    "words"
   ],
   "id": "8468b14da5625ecb",
   "outputs": [
    {
     "data": {
      "text/plain": [
       "{'Abrir', 'Avión', 'Borrar', 'Encender', 'Mal', 'Niño', 'Zapato'}"
      ]
     },
     "execution_count": 42,
     "metadata": {},
     "output_type": "execute_result"
    }
   ],
   "execution_count": 42
  },
  {
   "metadata": {},
   "cell_type": "markdown",
   "source": "sólo el 21% es útil",
   "id": "52ec8f40ce3d733e"
  },
  {
   "metadata": {
    "ExecuteTime": {
     "end_time": "2024-05-29T09:54:04.138088Z",
     "start_time": "2024-05-29T09:54:03.963317Z"
    }
   },
   "cell_type": "code",
   "source": "sns.displot(useful['score'])",
   "id": "25bd7dd1166d636",
   "outputs": [
    {
     "data": {
      "text/plain": [
       "<seaborn.axisgrid.FacetGrid at 0x7f1c43dc0400>"
      ]
     },
     "execution_count": 48,
     "metadata": {},
     "output_type": "execute_result"
    },
    {
     "data": {
      "text/plain": [
       "<Figure size 500x500 with 1 Axes>"
      ],
      "image/png": "[encoded data removed]"
     },
     "metadata": {},
     "output_type": "display_data"
    }
   ],
   "execution_count": 48
  },
  {
   "metadata": {
    "ExecuteTime": {
     "end_time": "2024-05-29T09:54:31.800172Z",
     "start_time": "2024-05-29T09:54:31.634763Z"
    }
   },
   "cell_type": "code",
   "source": "sns.displot(dataset['score'])",
   "id": "d72d691dda75c2bb",
   "outputs": [
    {
     "data": {
      "text/plain": [
       "<seaborn.axisgrid.FacetGrid at 0x7f1c43b4a4c0>"
      ]
     },
     "execution_count": 50,
     "metadata": {},
     "output_type": "execute_result"
    },
    {
     "data": {
      "text/plain": [
       "<Figure size 500x500 with 1 Axes>"
      ],
      "image/png": "[encoded data removed]"
     },
     "metadata": {},
     "output_type": "display_data"
    }
   ],
   "execution_count": 50
  }
 ],
 "metadata": {
  "kernelspec": {
   "display_name": "Python 3",
   "language": "python",
   "name": "python3"
  },
  "language_info": {
   "codemirror_mode": {
    "name": "ipython",
    "version": 2
   },
   "file_extension": ".py",
   "mimetype": "text/x-python",
   "name": "python",
   "nbconvert_exporter": "python",
   "pygments_lexer": "ipython2",
   "version": "2.7.6"
  }
 },
 "nbformat": 4,
 "nbformat_minor": 5
}
